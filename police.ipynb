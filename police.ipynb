{
 "cells": [
  {
   "cell_type": "markdown",
   "metadata": {},
   "source": [
    "Import packages"
   ]
  },
  {
   "cell_type": "code",
   "execution_count": 1,
   "metadata": {
    "scrolled": true
   },
   "outputs": [],
   "source": [
    "import pandas as pd\n",
    "import numpy as np"
   ]
  },
  {
   "cell_type": "markdown",
   "metadata": {},
   "source": [
    "Variables"
   ]
  },
  {
   "cell_type": "code",
   "execution_count": 2,
   "metadata": {
    "scrolled": true
   },
   "outputs": [],
   "source": [
    "old_year = 2004\n",
    "new_year = 2019\n",
    "calldb = []\n",
    "dflist = []"
   ]
  },
  {
   "cell_type": "markdown",
   "metadata": {},
   "source": [
    "Code"
   ]
  },
  {
   "cell_type": "code",
   "execution_count": 7,
   "metadata": {
    "scrolled": true
   },
   "outputs": [
    {
     "name": "stdout",
     "output_type": "stream",
     "text": [
      "<bound method NDFrame.head of                     CDTS     EID START_DATE CALL_NUMBER  PRIORITY REPORT_DATE  \\\n",
      "0       20041031102632PS  237882  9/10/2016  P043050568       2.0  10/31/2004   \n",
      "1       20041103011605PS  241472  9/10/2016  P043080073       2.0   11/3/2004   \n",
      "2       20041103012812PS  241469  9/10/2016  P043080070       3.0   11/3/2004   \n",
      "3       20041103013825PS  241446  9/10/2016  P043080049       3.0   11/3/2004   \n",
      "4       20041103014614PS  241488  9/10/2016  P043080087       6.0   11/3/2004   \n",
      "...                  ...     ...        ...         ...       ...         ...   \n",
      "187020  20040716235637PD   82992  9/10/2016  P041981304       3.0   7/16/2004   \n",
      "187021  20040729185515PD  101653  9/10/2016  P042110812       3.0   7/29/2004   \n",
      "187022  20040717011451PD   82994  9/10/2016  P041981306       4.0   7/16/2004   \n",
      "187023  20040729185528PD  101653  9/10/2016  P042110812       3.0   7/29/2004   \n",
      "187024  20040729192528PD  101677  9/10/2016  P042110831       3.0   7/29/2004   \n",
      "\n",
      "       OFFENSE_DATE OFFENSE_TIME CALLTYPE_CODE        CALL_TYPE  \\\n",
      "0        10/31/2004     10:25:21           415      DISTURBANCE   \n",
      "1         11/3/2004      1:14:25           415      DISTURBANCE   \n",
      "2         11/3/2004      1:07:31         1033A   ALARM, AUDIBLE   \n",
      "3         11/3/2004      0:28:07          647F  DRUNK IN PUBLIC   \n",
      "4         11/3/2004      1:40:39          1195     VEHICLE STOP   \n",
      "...             ...          ...           ...              ...   \n",
      "187020    7/16/2004     23:41:47         1033A   ALARM, AUDIBLE   \n",
      "187021    7/29/2004     18:36:32          1125   TRAFFIC HAZARD   \n",
      "187022    7/16/2004     23:43:03           415      DISTURBANCE   \n",
      "187023    7/29/2004     18:36:32          1125   TRAFFIC HAZARD   \n",
      "187024    7/29/2004     18:59:07           415      DISTURBANCE   \n",
      "\n",
      "       FINAL_DISPO_CODE                               FINAL_DISPO  \\\n",
      "0                   CAN                                  Canceled   \n",
      "1                     U                           Unfounded event   \n",
      "2                     U                           Unfounded event   \n",
      "3                     A                               Arrest Made   \n",
      "4                     N  No report required; dispatch record only   \n",
      "...                 ...                                       ...   \n",
      "187020              CAN                                  Canceled   \n",
      "187021              TOT                            No Disposition   \n",
      "187022                G          Gone on Arrival/unable to locate   \n",
      "187023                T                      Turned over To (TOT)   \n",
      "187024                N  No report required; dispatch record only   \n",
      "\n",
      "                                        COMMON_PLACE_NAME  \\\n",
      "0                                                     NaN   \n",
      "1                                                     NaN   \n",
      "2                                                     NaN   \n",
      "3       WELLS FARGO - MERIDIAN & SAN CARLOS INSIDE SAF...   \n",
      "4                                                     NaN   \n",
      "...                                                   ...   \n",
      "187020                                        SANTANA ROW   \n",
      "187021                                                NaN   \n",
      "187022                                                NaN   \n",
      "187023                                                NaN   \n",
      "187024                                                NaN   \n",
      "\n",
      "                                 ADDRESS      CITY STATE  \n",
      "0                   [0]-[100] SPRING ST   San Jose    CA  \n",
      "1                                   test  San Jose    CA  \n",
      "2                [1100]-[1200] STORY RD   San Jose    CA  \n",
      "3             [0]-[100] W SAN CARLOS ST   San Jose    CA  \n",
      "4       BLOSSOM HILL RD & ENTRADA CEDROS  San Jose    CA  \n",
      "...                                  ...       ...   ...  \n",
      "187020       [0]-[100] STEVENS CREEK BL   San Jose    CA  \n",
      "187021        AGUA VISTA DR & WEXFORD DR  San Jose    CA  \n",
      "187022           [100]-[200] N MCKAY DR   San Jose    CA  \n",
      "187023        AGUA VISTA DR & WEXFORD DR  San Jose    CA  \n",
      "187024             [0]-[100] CHIECHI AV   San Jose    CA  \n",
      "\n",
      "[187025 rows x 16 columns]>\n"
     ]
    }
   ],
   "source": [
    "for year in range(new_year - old_year + 1):\n",
    "    calldb.append(\"policecalls\" + str(old_year + year) + \".csv\")\n",
    "    dflist.append(pd.read_csv(calldb[year]))\n",
    "print(dflist[0].head)"
   ]
  },
  {
   "cell_type": "code",
   "execution_count": null,
   "metadata": {
    "scrolled": true
   },
   "outputs": [],
   "source": [
    "dflist[0].info()\n",
    "dflist[0].shape\n",
    "dflist[0].columns"
   ]
  },
  {
   "cell_type": "markdown",
   "metadata": {},
   "source": [
    "Sorting and dropping duplicates. No need to run again."
   ]
  },
  {
   "cell_type": "code",
   "execution_count": null,
   "metadata": {
    "scrolled": true
   },
   "outputs": [],
   "source": [
    "'''\n",
    "for df in dflist:\n",
    "    df.sort_values(by=['EID', 'OFFENSE_TIME'], inplace=True)\n",
    "    df.drop_duplicates(subset=['EID'], keep='first', inplace=True)\n",
    "'''"
   ]
  },
  {
   "cell_type": "code",
   "execution_count": null,
   "metadata": {
    "scrolled": true
   },
   "outputs": [],
   "source": [
    "dflist[0].head"
   ]
  },
  {
   "cell_type": "markdown",
   "metadata": {},
   "source": [
    "To check the data for any more duplicates. Again, no need to run a second time."
   ]
  },
  {
   "cell_type": "code",
   "execution_count": 53,
   "metadata": {
    "scrolled": true
   },
   "outputs": [],
   "source": [
    "'''\n",
    "yearcount=2004\n",
    "for df in dflist:    #the \"clean\" 2004 still had duplicates, but it was fixed in Excel. Honestly should have just fixed it in Excel to begin with\n",
    "    filename='cleaned'+str(yearcount)+'.csv'    #no need to run this anymore\n",
    "    df.to_csv(filename, index=False)\n",
    "    \n",
    "    yearcount+=1\n",
    "'''"
   ]
  },
  {
   "cell_type": "code",
   "execution_count": 3,
   "metadata": {},
   "outputs": [],
   "source": [
    "cleanedlist = ['00', '01', '02', '03']    #padding the list to make indices easier to remember\n",
    "for year in range(new_year - old_year + 1):\n",
    "    cleanedlist.append(pd.read_csv('cleaned'+str(old_year+year)+'.csv'))"
   ]
  },
  {
   "cell_type": "code",
   "execution_count": 73,
   "metadata": {
    "scrolled": true
   },
   "outputs": [
    {
     "data": {
      "text/html": [
       "<div>\n",
       "<style scoped>\n",
       "    .dataframe tbody tr th:only-of-type {\n",
       "        vertical-align: middle;\n",
       "    }\n",
       "\n",
       "    .dataframe tbody tr th {\n",
       "        vertical-align: top;\n",
       "    }\n",
       "\n",
       "    .dataframe thead th {\n",
       "        text-align: right;\n",
       "    }\n",
       "</style>\n",
       "<table border=\"1\" class=\"dataframe\">\n",
       "  <thead>\n",
       "    <tr style=\"text-align: right;\">\n",
       "      <th></th>\n",
       "      <th>CDTS</th>\n",
       "      <th>EID</th>\n",
       "      <th>START_DATE</th>\n",
       "      <th>CALL_NUMBER</th>\n",
       "      <th>PRIORITY</th>\n",
       "      <th>REPORT_DATE</th>\n",
       "      <th>OFFENSE_DATE</th>\n",
       "      <th>OFFENSE_TIME</th>\n",
       "      <th>CALLTYPE_CODE</th>\n",
       "      <th>CALL_TYPE</th>\n",
       "      <th>FINAL_DISPO_CODE</th>\n",
       "      <th>FINAL_DISPO</th>\n",
       "      <th>COMMON_PLACE_NAME</th>\n",
       "      <th>ADDRESS</th>\n",
       "      <th>CITY</th>\n",
       "      <th>STATE</th>\n",
       "    </tr>\n",
       "  </thead>\n",
       "  <tbody>\n",
       "    <tr>\n",
       "      <th>0</th>\n",
       "      <td>20040630154449PD</td>\n",
       "      <td>57501</td>\n",
       "      <td>9/10/2016</td>\n",
       "      <td>P041820527</td>\n",
       "      <td>2.0</td>\n",
       "      <td>6/30/2004</td>\n",
       "      <td>6/30/2004</td>\n",
       "      <td>13:50:07</td>\n",
       "      <td>242</td>\n",
       "      <td>BATTERY</td>\n",
       "      <td>R</td>\n",
       "      <td>Report taken</td>\n",
       "      <td>WELLS FARGO - MT PLEASANT CENTER INSIDE SAFEWAY</td>\n",
       "      <td>[0]-[100] STORY RD</td>\n",
       "      <td>San Jose</td>\n",
       "      <td>CA</td>\n",
       "    </tr>\n",
       "    <tr>\n",
       "      <th>1</th>\n",
       "      <td>20040630161354PD</td>\n",
       "      <td>57556</td>\n",
       "      <td>9/10/2016</td>\n",
       "      <td>P041820574</td>\n",
       "      <td>3.0</td>\n",
       "      <td>6/30/2004</td>\n",
       "      <td>6/30/2004</td>\n",
       "      <td>14:46:15</td>\n",
       "      <td>647F</td>\n",
       "      <td>DRUNK IN PUBLIC</td>\n",
       "      <td>A</td>\n",
       "      <td>Arrest Made</td>\n",
       "      <td>NaN</td>\n",
       "      <td>[300]-[400] N 14TH ST</td>\n",
       "      <td>San Jose</td>\n",
       "      <td>CA</td>\n",
       "    </tr>\n",
       "    <tr>\n",
       "      <th>2</th>\n",
       "      <td>20040630155053PD</td>\n",
       "      <td>57574</td>\n",
       "      <td>9/10/2016</td>\n",
       "      <td>P041820587</td>\n",
       "      <td>3.0</td>\n",
       "      <td>6/30/2004</td>\n",
       "      <td>6/30/2004</td>\n",
       "      <td>15:02:34</td>\n",
       "      <td>602PC</td>\n",
       "      <td>TRESPASSING</td>\n",
       "      <td>X</td>\n",
       "      <td>No Disposition</td>\n",
       "      <td>NaN</td>\n",
       "      <td>[100]-[200] LINCOLN AV</td>\n",
       "      <td>San Jose</td>\n",
       "      <td>CA</td>\n",
       "    </tr>\n",
       "    <tr>\n",
       "      <th>3</th>\n",
       "      <td>20040630181828PD</td>\n",
       "      <td>57581</td>\n",
       "      <td>9/10/2016</td>\n",
       "      <td>P041820593</td>\n",
       "      <td>3.0</td>\n",
       "      <td>6/30/2004</td>\n",
       "      <td>6/30/2004</td>\n",
       "      <td>15:09:57</td>\n",
       "      <td>211SA</td>\n",
       "      <td>STRONG ARM ROBBERY</td>\n",
       "      <td>R</td>\n",
       "      <td>Report taken</td>\n",
       "      <td>NaN</td>\n",
       "      <td>[200]-[300] FOREST AV</td>\n",
       "      <td>San Jose</td>\n",
       "      <td>CA</td>\n",
       "    </tr>\n",
       "    <tr>\n",
       "      <th>4</th>\n",
       "      <td>20040630154117PD</td>\n",
       "      <td>57587</td>\n",
       "      <td>9/10/2016</td>\n",
       "      <td>P041820597</td>\n",
       "      <td>3.0</td>\n",
       "      <td>6/30/2004</td>\n",
       "      <td>6/30/2004</td>\n",
       "      <td>15:12:22</td>\n",
       "      <td>1182</td>\n",
       "      <td>VEHICLE ACCIDENT, PROPERTY DAMAGE</td>\n",
       "      <td>R</td>\n",
       "      <td>Report taken</td>\n",
       "      <td>NaN</td>\n",
       "      <td>N 1ST ST &amp; E YOUNGER AV</td>\n",
       "      <td>San Jose</td>\n",
       "      <td>CA</td>\n",
       "    </tr>\n",
       "  </tbody>\n",
       "</table>\n",
       "</div>"
      ],
      "text/plain": [
       "               CDTS    EID START_DATE CALL_NUMBER  PRIORITY REPORT_DATE  \\\n",
       "0  20040630154449PD  57501  9/10/2016  P041820527       2.0   6/30/2004   \n",
       "1  20040630161354PD  57556  9/10/2016  P041820574       3.0   6/30/2004   \n",
       "2  20040630155053PD  57574  9/10/2016  P041820587       3.0   6/30/2004   \n",
       "3  20040630181828PD  57581  9/10/2016  P041820593       3.0   6/30/2004   \n",
       "4  20040630154117PD  57587  9/10/2016  P041820597       3.0   6/30/2004   \n",
       "\n",
       "  OFFENSE_DATE OFFENSE_TIME CALLTYPE_CODE                          CALL_TYPE  \\\n",
       "0    6/30/2004     13:50:07           242                            BATTERY   \n",
       "1    6/30/2004     14:46:15          647F                    DRUNK IN PUBLIC   \n",
       "2    6/30/2004     15:02:34         602PC                        TRESPASSING   \n",
       "3    6/30/2004     15:09:57         211SA                 STRONG ARM ROBBERY   \n",
       "4    6/30/2004     15:12:22          1182  VEHICLE ACCIDENT, PROPERTY DAMAGE   \n",
       "\n",
       "  FINAL_DISPO_CODE     FINAL_DISPO  \\\n",
       "0                R    Report taken   \n",
       "1                A     Arrest Made   \n",
       "2                X  No Disposition   \n",
       "3                R    Report taken   \n",
       "4                R    Report taken   \n",
       "\n",
       "                                 COMMON_PLACE_NAME                  ADDRESS  \\\n",
       "0  WELLS FARGO - MT PLEASANT CENTER INSIDE SAFEWAY      [0]-[100] STORY RD    \n",
       "1                                              NaN   [300]-[400] N 14TH ST    \n",
       "2                                              NaN  [100]-[200] LINCOLN AV    \n",
       "3                                              NaN   [200]-[300] FOREST AV    \n",
       "4                                              NaN  N 1ST ST & E YOUNGER AV   \n",
       "\n",
       "       CITY STATE  \n",
       "0  San Jose    CA  \n",
       "1  San Jose    CA  \n",
       "2  San Jose    CA  \n",
       "3  San Jose    CA  \n",
       "4  San Jose    CA  "
      ]
     },
     "execution_count": 73,
     "metadata": {},
     "output_type": "execute_result"
    }
   ],
   "source": [
    "cleanedlist[4].head(5)"
   ]
  },
  {
   "cell_type": "markdown",
   "metadata": {},
   "source": [
    "This block of code is to fix the useless times that were added to the end of the dates. Commented to prevent me from running again"
   ]
  },
  {
   "cell_type": "code",
   "execution_count": 45,
   "metadata": {},
   "outputs": [],
   "source": [
    "'''\n",
    "cleanedlist[19] = pd.read_csv('cleaned2019.csv')\n",
    "fix = cleanedlist[19]\n",
    "cleanedlist[19].head(1)\n",
    "fix['START_DATE'] = fix['START_DATE'].apply(lambda x: str(x)[:-12])\n",
    "fix['REPORT_DATE'] = fix['REPORT_DATE'].apply(lambda x: str(x)[:-12])\n",
    "fix['OFFENSE_DATE'] = fix['OFFENSE_DATE'].apply(lambda x: str(x)[:-12])\n",
    "fix.head(1)\n",
    "fix.to_csv('cleaned2019.csv', index=False)\n",
    "'''"
   ]
  },
  {
   "cell_type": "markdown",
   "metadata": {},
   "source": [
    "This bit of code was to fix the '00:00:00 AM' in the 2018 file. Commented so I don't run it again"
   ]
  },
  {
   "cell_type": "code",
   "execution_count": 48,
   "metadata": {},
   "outputs": [
    {
     "data": {
      "text/html": [
       "<div>\n",
       "<style scoped>\n",
       "    .dataframe tbody tr th:only-of-type {\n",
       "        vertical-align: middle;\n",
       "    }\n",
       "\n",
       "    .dataframe tbody tr th {\n",
       "        vertical-align: top;\n",
       "    }\n",
       "\n",
       "    .dataframe thead th {\n",
       "        text-align: right;\n",
       "    }\n",
       "</style>\n",
       "<table border=\"1\" class=\"dataframe\">\n",
       "  <thead>\n",
       "    <tr style=\"text-align: right;\">\n",
       "      <th></th>\n",
       "      <th>CDTS</th>\n",
       "      <th>EID</th>\n",
       "      <th>START_DATE</th>\n",
       "      <th>CALL_NUMBER</th>\n",
       "      <th>PRIORITY</th>\n",
       "      <th>REPORT_DATE</th>\n",
       "      <th>OFFENSE_DATE</th>\n",
       "      <th>OFFENSE_TIME</th>\n",
       "      <th>CALLTYPE_CODE</th>\n",
       "      <th>CALL_TYPE</th>\n",
       "      <th>FINAL_DISPO_CODE</th>\n",
       "      <th>FINAL_DISPO</th>\n",
       "      <th>COMMON_PLACE_NAME</th>\n",
       "      <th>ADDRESS</th>\n",
       "      <th>CITY</th>\n",
       "      <th>STATE</th>\n",
       "    </tr>\n",
       "  </thead>\n",
       "  <tbody>\n",
       "    <tr>\n",
       "      <th>0</th>\n",
       "      <td>20180101004450PS</td>\n",
       "      <td>7000110</td>\n",
       "      <td>1/1/2018</td>\n",
       "      <td>P180010064</td>\n",
       "      <td>1</td>\n",
       "      <td>1/1/2018</td>\n",
       "      <td>1/1/2018</td>\n",
       "      <td>0:34:54</td>\n",
       "      <td>415W</td>\n",
       "      <td>DISTURBANCE, WEAPON</td>\n",
       "      <td>N</td>\n",
       "      <td>No report required; dispatch record only</td>\n",
       "      <td>NaN</td>\n",
       "      <td>STORY RD &amp; ADRIAN WY</td>\n",
       "      <td>San Jose</td>\n",
       "      <td>CA</td>\n",
       "    </tr>\n",
       "  </tbody>\n",
       "</table>\n",
       "</div>"
      ],
      "text/plain": [
       "               CDTS      EID START_DATE CALL_NUMBER  PRIORITY REPORT_DATE  \\\n",
       "0  20180101004450PS  7000110   1/1/2018  P180010064         1    1/1/2018   \n",
       "\n",
       "  OFFENSE_DATE OFFENSE_TIME CALLTYPE_CODE            CALL_TYPE  \\\n",
       "0     1/1/2018      0:34:54          415W  DISTURBANCE, WEAPON   \n",
       "\n",
       "  FINAL_DISPO_CODE                               FINAL_DISPO  \\\n",
       "0                N  No report required; dispatch record only   \n",
       "\n",
       "  COMMON_PLACE_NAME               ADDRESS      CITY STATE  \n",
       "0               NaN  STORY RD & ADRIAN WY  San Jose    CA  "
      ]
     },
     "execution_count": 48,
     "metadata": {},
     "output_type": "execute_result"
    }
   ],
   "source": [
    "'''\n",
    "cleanedlist[18] = pd.read_csv('cleaned2018.csv')    #forgot to set index to False so an index column was created. Deleted the\n",
    "fix = cleanedlist[18]                               #column in excel and read the file again to fix it\n",
    "fix['START_DATE'] = fix['REPORT_DATE']\n",
    "fix.head(1)\n",
    "fix.to_csv('cleaned2018.csv', index=False)\n",
    "fix.head(1)\n",
    "'''"
   ]
  },
  {
   "cell_type": "code",
   "execution_count": null,
   "metadata": {},
   "outputs": [],
   "source": []
  },
  {
   "cell_type": "code",
   "execution_count": 6,
   "metadata": {},
   "outputs": [
    {
     "ename": "ValueError",
     "evalue": "The truth value of a Series is ambiguous. Use a.empty, a.bool(), a.item(), a.any() or a.all().",
     "output_type": "error",
     "traceback": [
      "\u001b[1;31m---------------------------------------------------------------------------\u001b[0m",
      "\u001b[1;31mValueError\u001b[0m                                Traceback (most recent call last)",
      "\u001b[1;32m<ipython-input-6-e20872121e98>\u001b[0m in \u001b[0;36m<module>\u001b[1;34m\u001b[0m\n\u001b[0;32m      1\u001b[0m \u001b[1;32mfor\u001b[0m \u001b[0mindex\u001b[0m\u001b[1;33m,\u001b[0m \u001b[0mdf\u001b[0m \u001b[1;32min\u001b[0m \u001b[0menumerate\u001b[0m\u001b[1;33m(\u001b[0m\u001b[0mcleanedlist\u001b[0m\u001b[1;33m)\u001b[0m\u001b[1;33m:\u001b[0m\u001b[1;33m\u001b[0m\u001b[1;33m\u001b[0m\u001b[0m\n\u001b[0;32m      2\u001b[0m     \u001b[1;32mif\u001b[0m \u001b[0mindex\u001b[0m \u001b[1;33m>=\u001b[0m \u001b[1;36m4\u001b[0m\u001b[1;33m:\u001b[0m\u001b[1;33m\u001b[0m\u001b[1;33m\u001b[0m\u001b[0m\n\u001b[1;32m----> 3\u001b[1;33m         \u001b[1;32mif\u001b[0m \u001b[0mpd\u001b[0m\u001b[1;33m.\u001b[0m\u001b[0misna\u001b[0m\u001b[1;33m(\u001b[0m\u001b[0mdf\u001b[0m\u001b[1;33m[\u001b[0m\u001b[1;34m'PRIORITY'\u001b[0m\u001b[1;33m]\u001b[0m\u001b[1;33m)\u001b[0m\u001b[1;33m:\u001b[0m    \u001b[1;31m#if there are empty fields in priority, i'll impute them based on call code\u001b[0m\u001b[1;33m\u001b[0m\u001b[1;33m\u001b[0m\u001b[0m\n\u001b[0m\u001b[0;32m      4\u001b[0m             \u001b[0mprint\u001b[0m\u001b[1;33m(\u001b[0m\u001b[1;34m\"hello\"\u001b[0m\u001b[1;33m)\u001b[0m\u001b[1;33m\u001b[0m\u001b[1;33m\u001b[0m\u001b[0m\n\u001b[0;32m      5\u001b[0m             df.astype({'CDTS': 'str',\n",
      "\u001b[1;32m~\\Anaconda3\\lib\\site-packages\\pandas\\core\\generic.py\u001b[0m in \u001b[0;36m__nonzero__\u001b[1;34m(self)\u001b[0m\n\u001b[0;32m   1553\u001b[0m             \u001b[1;34m\"The truth value of a {0} is ambiguous. \"\u001b[0m\u001b[1;33m\u001b[0m\u001b[1;33m\u001b[0m\u001b[0m\n\u001b[0;32m   1554\u001b[0m             \"Use a.empty, a.bool(), a.item(), a.any() or a.all().\".format(\n\u001b[1;32m-> 1555\u001b[1;33m                 \u001b[0mself\u001b[0m\u001b[1;33m.\u001b[0m\u001b[0m__class__\u001b[0m\u001b[1;33m.\u001b[0m\u001b[0m__name__\u001b[0m\u001b[1;33m\u001b[0m\u001b[1;33m\u001b[0m\u001b[0m\n\u001b[0m\u001b[0;32m   1556\u001b[0m             )\n\u001b[0;32m   1557\u001b[0m         )\n",
      "\u001b[1;31mValueError\u001b[0m: The truth value of a Series is ambiguous. Use a.empty, a.bool(), a.item(), a.any() or a.all()."
     ]
    }
   ],
   "source": [
    "for index, df in enumerate(cleanedlist):\n",
    "    if index >= 4:\n",
    "        df = df.replace(r'^\\s*$', np.nan, regex=True)    #replace empty fields with NaN\n",
    "        if pd.isna(df['PRIORITY']):    #if there are empty fields in priority, i'll impute them based on call code\n",
    "            print(\"hello\")\n",
    "            df.astype({'CDTS': 'str',\n",
    "                    'EID': 'int',\n",
    "#                    'START_DATE': 'datetime',\n",
    "                    'CALL_NUMBER': 'str',\n",
    "                    'PRIORITY': 'int',\n",
    "#                    'REPORT_DATE': 'date',\n",
    "#                    'OFFENSE_DATE': 'date',\n",
    "#                    'OFFENSE_TIME': 'time',\n",
    "                    'CALLTYPE_CODE': 'str',\n",
    "                    'CALL_TYPE': 'str',\n",
    "                    'FINAL_DISPO_CODE': 'str',\n",
    "                    'FINAL_DISPO': 'str',\n",
    "                    'COMMON_PLACE_NAME': 'str',\n",
    "                    'ADDRESS': 'str',\n",
    "                    'CITY': 'str',\n",
    "                    'STATE': 'str'})\n",
    "            print(index)\n",
    "#cleanedlist[19].head(2)"
   ]
  },
  {
   "cell_type": "code",
   "execution_count": null,
   "metadata": {},
   "outputs": [],
   "source": []
  }
 ],
 "metadata": {
  "kernelspec": {
   "display_name": "Python 3",
   "language": "python",
   "name": "python3"
  },
  "language_info": {
   "codemirror_mode": {
    "name": "ipython",
    "version": 3
   },
   "file_extension": ".py",
   "mimetype": "text/x-python",
   "name": "python",
   "nbconvert_exporter": "python",
   "pygments_lexer": "ipython3",
   "version": "3.7.5"
  }
 },
 "nbformat": 4,
 "nbformat_minor": 2
}
